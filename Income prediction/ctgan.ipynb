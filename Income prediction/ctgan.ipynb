{
 "cells": [
  {
   "cell_type": "code",
   "execution_count": null,
   "metadata": {},
   "outputs": [],
   "source": [
    "import pandas as pd\n",
    "import numpy as np\n",
    "import os\n",
    "import random\n",
    "from tensorflow.keras.optimizers import Adam\n",
    "import tensorflow as tf\n",
    "from sklearn.metrics import *\n",
    "from keras.models import Model\n",
    "from tensorflow.keras.models import Model\n",
    "from tensorflow.keras.layers import Input, Dense, Activation, BatchNormalization, Dropout\n",
    "from tensorflow.keras.layers import LeakyReLU, ELU, PReLU, ReLU\n",
    "from tensorflow.keras.metrics import * \n",
    "from sklearn.preprocessing import *\n",
    "from lightgbm import LGBMRegressor\n",
    "from sklearn.metrics import mean_squared_error\n",
    "from sklearn.feature_selection import *\n",
    "from keras.callbacks import EarlyStopping\n",
    "from utils import *\n",
    "import warnings \n",
    "warnings.filterwarnings('ignore')\n",
    "\n",
    "seed = 42\n",
    "os.environ[\"PYTHONHASHSEED\"] = str(seed)\n",
    "os.environ['TF_DETERMINISTIC_OPS'] = '1'\n",
    "os.environ['TF_CUDNN_DETERMINISTIC'] = '1'\n",
    "os.environ['TF_CUDNN_USE_FRONTEND '] = '1'\n",
    "os.environ[\"CUDA_VISIBLE_DEVICES\"] = '1' \n",
    "os.environ['TF_CPP_MIN_LOG_LEVEL'] = '2'\n",
    "random.seed(seed)\n",
    "np.random.seed(seed)\n",
    "tf.random.set_seed(seed)  "
   ]
  },
  {
   "cell_type": "code",
   "execution_count": null,
   "metadata": {},
   "outputs": [],
   "source": [
    "def MLP_regression(X_train):   \n",
    "       \n",
    "    if isinstance(X_train, pd.DataFrame):\n",
    "        num = len(X_train.columns)\n",
    "    elif isinstance(X_train, int) or isinstance(X_train, float): \n",
    "        num = X_train   \n",
    "        \n",
    "    inputs = Input(shape=(num, ))    \n",
    "    \n",
    "    model = Dense(256)(inputs)   \n",
    "    model = BatchNormalization()(model) \n",
    "    model = LeakyReLU()(model)   \n",
    "    model = Dropout(0.25)(model)\n",
    "    \n",
    "    model = Dense(64)(model)   \n",
    "    model = BatchNormalization()(model)  \n",
    "    model = LeakyReLU()(model)   \n",
    "    model = Dropout(0.25)(model)\n",
    "    \n",
    "    model = Dense(256)(model) \n",
    "    model = BatchNormalization()(model)\n",
    "    model = LeakyReLU()(model)    \n",
    "    model = Dropout(0.25)(model)\n",
    "    \n",
    "    model = Dense(64)(model)      \n",
    "    model = BatchNormalization()(model)\n",
    "    model = LeakyReLU()(model)   \n",
    "    model = Dropout(0.25)(model)\n",
    "    \n",
    "    model = Dense(16)(model)      \n",
    "    model = BatchNormalization()(model)     \n",
    "    model = LeakyReLU()(model)\n",
    "    model = Dropout(0.25)(model)\n",
    "        \n",
    "        \n",
    "    output = Dense(1, activation='relu')(model)\n",
    "\n",
    "    MLP_model = Model(inputs=[inputs], outputs=[output])\n",
    "    \n",
    "    optimizer = Adam(learning_rate=0.001)\n",
    "   \n",
    "    MLP_model.compile(optimizer=optimizer, loss='mean_squared_error', metrics=['mean_absolute_error'])    \n",
    "\n",
    "    return MLP_model\n"
   ]
  },
  {
   "cell_type": "code",
   "execution_count": null,
   "metadata": {},
   "outputs": [],
   "source": [
    "train = pd.read_csv('train.csv')\n",
    "train, test = train.drop('ID', axis = 1)"
   ]
  },
  {
   "cell_type": "code",
   "execution_count": null,
   "metadata": {},
   "outputs": [],
   "source": [
    "train, val = train_test_split(train, train_size=0.8, random_state=42)"
   ]
  },
  {
   "cell_type": "code",
   "execution_count": null,
   "metadata": {},
   "outputs": [],
   "source": [
    "train, val = One_hot_encoder(train, val, variable=['Gender', 'Education_Status', 'Employment_Status',\n",
    "                                                    'Industry_Status', 'Occupation_Status', 'Race',\n",
    "                                                    'Hispanic_Origin', 'Martial_Status', 'Household_Status',\n",
    "                                                    'Household_Summary', 'Citizenship', 'Birth_Country',\n",
    "                                                    'Birth_Country (Father)', 'Birth_Country (Mother)', 'Tax_Status', 'Income_Status'])"
   ]
  },
  {
   "cell_type": "code",
   "execution_count": null,
   "metadata": {},
   "outputs": [],
   "source": [
    "feature = Feature_selection(train, 100)"
   ]
  },
  {
   "cell_type": "code",
   "execution_count": null,
   "metadata": {},
   "outputs": [],
   "source": [
    "train.columns = train.columns.astype(str)\n",
    "val.columns = val.columns.astype(str)"
   ]
  },
  {
   "cell_type": "code",
   "execution_count": null,
   "metadata": {},
   "outputs": [],
   "source": [
    "X_train, y_train = train[feature], train['Income']\n",
    "X_val, y_val = val[feature], val['Income']"
   ]
  },
  {
   "cell_type": "code",
   "execution_count": null,
   "metadata": {},
   "outputs": [],
   "source": [
    "X_train, X_val = Log_transformation(X_train, X_val)"
   ]
  },
  {
   "cell_type": "code",
   "execution_count": null,
   "metadata": {},
   "outputs": [],
   "source": [
    "X_train, X_val = Scaling(X_train, X_val)"
   ]
  },
  {
   "cell_type": "code",
   "execution_count": null,
   "metadata": {},
   "outputs": [],
   "source": [
    "Scaling(train[['Income']], save = 'income_scaler')\n",
    "train = Scaling(pd.concat([X_train.reset_index(drop = True), y_train.reset_index(drop = True)], axis = 1))\n",
    "train"
   ]
  },
  {
   "cell_type": "code",
   "execution_count": null,
   "metadata": {},
   "outputs": [],
   "source": [
    "from ctgan import CTGAN\n",
    "\n",
    "continuous_col = find_continuous_col(train)\n",
    "\n",
    "discrete_columns = train.drop(continuous_col, axis = 1).columns\n",
    "\n",
    "ctgan = CTGAN(epochs=100)\n",
    "ctgan.fit(train, discrete_columns)\n",
    "\n",
    "synthetic_data = ctgan.sample(10000)"
   ]
  },
  {
   "cell_type": "code",
   "execution_count": null,
   "metadata": {},
   "outputs": [],
   "source": [
    "X_train_sampled = synthetic_data.drop('Income', axis = 1)\n",
    "y_train_sampled = Scaling(synthetic_data[['Income']], method='inverse', scaler = 'income_scaler')\n",
    "y_train_sampled['Income'] = np.where(y_train_sampled['Income'] <=0, 0, y_train_sampled['Income'])\n",
    "\n",
    "X_train = pd.concat([X_train, X_train_sampled])\n",
    "y_train = pd.concat([y_train, y_train_sampled])"
   ]
  },
  {
   "cell_type": "code",
   "execution_count": null,
   "metadata": {},
   "outputs": [],
   "source": [
    "def Regression_model(model, X_train, y_train, X_val, y_val):\n",
    "\n",
    "    if model == 'lgbm':\n",
    "        model = LGBMRegressor(boosting_type = 'gbdt', learning_rate = 0.01, n_estimators=500)\n",
    "        model.fit(X_train, y_train)\n",
    "\n",
    "    elif model == 'mlp':\n",
    "        \n",
    "        train_dataset = tf.data.Dataset.from_tensor_slices((X_train, y_train)).shuffle(len(X_train)).batch(64).prefetch(tf.data.AUTOTUNE)  \n",
    "        val_dataset = tf.data.Dataset.from_tensor_slices((X_val, y_val)).shuffle(len(X_val)).batch(1).prefetch(tf.data.AUTOTUNE)  \n",
    "\n",
    "        model = MLP_regression(X_train)\n",
    "\n",
    "        early_stopping = EarlyStopping(monitor='val_loss', patience=50, verbose=1, restore_best_weights=True)\n",
    "\n",
    "        model.fit(train_dataset, validation_data = val_dataset, epochs=1000, callbacks=[early_stopping])\n",
    "\n",
    "\n",
    "    y_pred = pd.DataFrame(model.predict(X_val), columns = ['Prediction'])\n",
    "    y_pred['Prediction'] = np.where(y_pred['Prediction'] <= 0, 0, y_pred['Prediction'])\n",
    "    \n",
    "    mse = mean_squared_error(y_val, y_pred)\n",
    "    rmse = np.sqrt(mse)\n",
    "    print(rmse)"
   ]
  }
 ],
 "metadata": {
  "kernelspec": {
   "display_name": "sm_dt",
   "language": "python",
   "name": "python3"
  },
  "language_info": {
   "codemirror_mode": {
    "name": "ipython",
    "version": 3
   },
   "file_extension": ".py",
   "mimetype": "text/x-python",
   "name": "python",
   "nbconvert_exporter": "python",
   "pygments_lexer": "ipython3",
   "version": "3.10.14"
  }
 },
 "nbformat": 4,
 "nbformat_minor": 2
}
