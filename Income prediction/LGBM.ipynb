{
 "cells": [
  {
   "cell_type": "code",
   "execution_count": null,
   "id": "afd3b16f",
   "metadata": {},
   "outputs": [],
   "source": [
    "import pandas as pd\n",
    "import os\n",
    "from tqdm import tqdm\n",
    "from lightgbm import LGBMRegressor\n",
    "from sklearn.model_selection import KFold\n",
    "import random\n",
    "import tensorflow as tf\n",
    "from utils import *"
   ]
  },
  {
   "cell_type": "code",
   "execution_count": null,
   "id": "6697b9c0",
   "metadata": {},
   "outputs": [],
   "source": [
    "train_cv = pd.read_csv('data/train.csv')\n",
    "train_cv = train_cv.drop('ID', axis =1 )"
   ]
  },
  {
   "cell_type": "code",
   "execution_count": null,
   "id": "3642d8bd",
   "metadata": {},
   "outputs": [],
   "source": [
    "def Build_Model(boosting_type, learning_rate, n_estimator):\n",
    "    model = LGBMRegressor(boosting_type = boosting_type, learning_rate = learning_rate, n_estimators=n_estimator, verbose = -1)\n",
    "    \n",
    "    return model"
   ]
  },
  {
   "cell_type": "code",
   "execution_count": null,
   "id": "2d61739e",
   "metadata": {},
   "outputs": [],
   "source": [
    "kfold = KFold(n_splits=5)\n",
    "\n",
    "results = {'Feature_n' : [], 'boosting_type' : [], 'learning_rate': [], 'n_estimator': [], 'boost_from_average': [], 'RMSE': []} "
   ]
  },
  {
   "cell_type": "code",
   "execution_count": null,
   "id": "d3f8e1ed",
   "metadata": {},
   "outputs": [],
   "source": [
    "for feature_n in tqdm([30, 50, 70, 100, 130, 150, 170, 200, 230, 250, 274]):\n",
    "\n",
    "    for train_idx, test_idx in kfold.split(train_cv):\n",
    "        \n",
    "        train, test = train_cv.iloc[train_idx], train_cv.iloc[test_idx] \n",
    "\n",
    "        train, test = One_hot_encoder(train, test,variable=['Gender', 'Education_Status', 'Employment_Status',\n",
    "                                                            'Industry_Status', 'Occupation_Status', 'Race',\n",
    "                                                            'Hispanic_Origin', 'Martial_Status', 'Household_Status',\n",
    "                                                            'Household_Summary', 'Citizenship', 'Birth_Country',\n",
    "                                                            'Birth_Country (Father)', 'Birth_Country (Mother)', 'Tax_Status', 'Income_Status'])\n",
    "        \n",
    "               \n",
    "        continuous_col = find_continuous_col(train)\n",
    "\n",
    "        selected_feautre = Feature_selection(train, feature_n=feature_n)\n",
    "\n",
    "        X_train, y_train = train[selected_feautre], train['Income']\n",
    "        X_test, y_test = test[selected_feautre], test['Income']\n",
    "        \n",
    "        for boosting_type in ['gbdt', 'dart']:\n",
    "            for learning_rate in [0.01, 0.1, 0.15, 0.3]:    \n",
    "                for n_estimator in [100, 300, 500, 700]:          \n",
    "                        \n",
    "                    model = Build_Model(boosting_type, learning_rate, n_estimator)                        \n",
    "                    model.fit(X_train, y_train)\n",
    "                    y_pred = model.predict(X_test)\n",
    "\n",
    "                    rmse = np.sqrt(mean_squared_error(y_test, y_pred))          \n",
    "                    \n",
    "                    results['Feature_n'].append(feature_n)\n",
    "                    results['boosting_type'].append(boosting_type)\n",
    "                    results['learning_rate'].append(learning_rate)\n",
    "                    results['n_estimator'].append(n_estimator)\n",
    "                    \n",
    "                    results['RMSE'].append(rmse)\n",
    "\n",
    "model_results = pd.DataFrame(results)\n",
    "model_results"
   ]
  },
  {
   "cell_type": "code",
   "execution_count": null,
   "id": "c18c3f52",
   "metadata": {},
   "outputs": [],
   "source": [
    "model_results.sort_values('RMSE')"
   ]
  },
  {
   "cell_type": "code",
   "execution_count": null,
   "id": "eb176838",
   "metadata": {},
   "outputs": [],
   "source": []
  }
 ],
 "metadata": {
  "kernelspec": {
   "display_name": "Python 3 (ipykernel)",
   "language": "python",
   "name": "python3"
  },
  "language_info": {
   "codemirror_mode": {
    "name": "ipython",
    "version": 3
   },
   "file_extension": ".py",
   "mimetype": "text/x-python",
   "name": "python",
   "nbconvert_exporter": "python",
   "pygments_lexer": "ipython3",
   "version": "3.10.13"
  },
  "toc": {
   "base_numbering": 1,
   "nav_menu": {},
   "number_sections": true,
   "sideBar": true,
   "skip_h1_title": false,
   "title_cell": "Table of Contents",
   "title_sidebar": "Contents",
   "toc_cell": false,
   "toc_position": {},
   "toc_section_display": true,
   "toc_window_display": false
  }
 },
 "nbformat": 4,
 "nbformat_minor": 5
}
